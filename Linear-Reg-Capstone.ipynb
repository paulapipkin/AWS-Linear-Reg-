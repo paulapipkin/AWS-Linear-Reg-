{
 "cells": [
  {
   "cell_type": "markdown",
   "id": "66f51297-94f4-4061-a0f5-91c938717067",
   "metadata": {},
   "source": [
    "Using Simple Linear Regression on SageMaker & SageMaker SDK"
   ]
  },
  {
   "cell_type": "code",
   "execution_count": null,
   "id": "3eb41abe-7d3a-4a32-97e8-fae49d5f7086",
   "metadata": {},
   "outputs": [],
   "source": [
    "#importing "
   ]
  },
  {
   "cell_type": "code",
   "execution_count": 6,
   "id": "80537f9d-b272-4aa2-bb4c-87e41be92f75",
   "metadata": {
    "tags": []
   },
   "outputs": [],
   "source": [
    "#importing libraries\n",
    "import pandas as pd\n",
    "import numpy as np\n",
    "import seaborn as sns\n",
    "import matplotlib.pyplot as plt\n",
    "\n",
    "from sklearn.model_selection import train_test_split"
   ]
  },
  {
   "cell_type": "code",
   "execution_count": 3,
   "id": "1de3b08b-0219-484f-848b-2183310c9664",
   "metadata": {
    "tags": []
   },
   "outputs": [
    {
     "data": {
      "text/html": [
       "<div>\n",
       "<style scoped>\n",
       "    .dataframe tbody tr th:only-of-type {\n",
       "        vertical-align: middle;\n",
       "    }\n",
       "\n",
       "    .dataframe tbody tr th {\n",
       "        vertical-align: top;\n",
       "    }\n",
       "\n",
       "    .dataframe thead th {\n",
       "        text-align: right;\n",
       "    }\n",
       "</style>\n",
       "<table border=\"1\" class=\"dataframe\">\n",
       "  <thead>\n",
       "    <tr style=\"text-align: right;\">\n",
       "      <th></th>\n",
       "      <th>Horse Power</th>\n",
       "      <th>Fuel Economy (MPG)</th>\n",
       "    </tr>\n",
       "  </thead>\n",
       "  <tbody>\n",
       "    <tr>\n",
       "      <th>0</th>\n",
       "      <td>118.770799</td>\n",
       "      <td>29.344195</td>\n",
       "    </tr>\n",
       "    <tr>\n",
       "      <th>1</th>\n",
       "      <td>176.326567</td>\n",
       "      <td>24.695934</td>\n",
       "    </tr>\n",
       "    <tr>\n",
       "      <th>2</th>\n",
       "      <td>219.262465</td>\n",
       "      <td>23.952010</td>\n",
       "    </tr>\n",
       "    <tr>\n",
       "      <th>3</th>\n",
       "      <td>187.310009</td>\n",
       "      <td>23.384546</td>\n",
       "    </tr>\n",
       "    <tr>\n",
       "      <th>4</th>\n",
       "      <td>218.594340</td>\n",
       "      <td>23.426739</td>\n",
       "    </tr>\n",
       "  </tbody>\n",
       "</table>\n",
       "</div>"
      ],
      "text/plain": [
       "   Horse Power  Fuel Economy (MPG)\n",
       "0   118.770799           29.344195\n",
       "1   176.326567           24.695934\n",
       "2   219.262465           23.952010\n",
       "3   187.310009           23.384546\n",
       "4   218.594340           23.426739"
      ]
     },
     "execution_count": 3,
     "metadata": {},
     "output_type": "execute_result"
    }
   ],
   "source": [
    "#import dataset\n",
    "\n",
    "df = pd.read_csv('FuelEconomy.csv')\n",
    "df.head()"
   ]
  },
  {
   "cell_type": "code",
   "execution_count": 45,
   "id": "e4302000-8eb8-4183-8f4d-8bf74bdbd821",
   "metadata": {
    "tags": []
   },
   "outputs": [],
   "source": [
    "# Separate the data into input X and Output y  \n",
    "#data needs to be in float32 format\n",
    "\n",
    "X = np.array(df[['Horse Power']]).astype('float32') #np.array because that is the format needed for sagemaker X must be a matrix\n",
    "y = np.array(df['Fuel Economy (MPG)']).astype('float32') # target must be a vector\n",
    "       "
   ]
  },
  {
   "cell_type": "code",
   "execution_count": 46,
   "id": "c9654d2e-ac06-48b4-a78d-9c5727dd7a06",
   "metadata": {
    "tags": []
   },
   "outputs": [
    {
     "name": "stdout",
     "output_type": "stream",
     "text": [
      "(80,)\n",
      "(80, 1)\n"
     ]
    },
    {
     "data": {
      "text/plain": [
       "numpy.ndarray"
      ]
     },
     "execution_count": 46,
     "metadata": {},
     "output_type": "execute_result"
    }
   ],
   "source": [
    "#split train/test - For the Sagemaker Target must be a vector:\n",
    "X_train, X_test, y_train, y_test = train_test_split(X, y, test_size = 0.2)\n",
    "print(y_train.shape)\n",
    "print(X_train.shape)\n",
    "type(X_train)"
   ]
  },
  {
   "cell_type": "code",
   "execution_count": 47,
   "id": "075dd888-7de3-465b-92a4-360098b68ed9",
   "metadata": {
    "tags": []
   },
   "outputs": [],
   "source": [
    "# Boto3 is the Amazon Web Services (AWS) Software Development Kit (SDK) for Python\n",
    "# Boto3 allows Python developer to write software that makes use of services like Amazon S3 and Amazon EC2\n",
    "\n",
    "import sagemaker\n",
    "import boto3\n",
    "\n",
    "#step 1 : create a session\n",
    "sagemaker_session = sagemaker.Session()\n",
    "\n",
    "#step 2 saving your work - create the bucket in S3 and folders\n",
    "\n",
    "bucket = 'udemy-linear-learner' #this bucket needs to be created before you run this code\n",
    "prefix = 'linear-learner-capstone' # sub folder that will be created by teh code\n",
    "\n",
    "#step3 get the role that is executing this session\n",
    "\n",
    "role = sagemaker.get_execution_role()\n",
    "\n",
    "\n",
    "\n"
   ]
  },
  {
   "cell_type": "code",
   "execution_count": 48,
   "id": "0adf4a1c-96b1-400f-99e7-fa0911de9379",
   "metadata": {
    "tags": []
   },
   "outputs": [
    {
     "data": {
      "text/plain": [
       "0"
      ]
     },
     "execution_count": 48,
     "metadata": {},
     "output_type": "execute_result"
    }
   ],
   "source": [
    "#import libraries to prepare data to work with sagemaker\n",
    "\n",
    "import io\n",
    "import sagemaker.amazon.common as smac\n",
    "\n",
    "#from AWS Udemy course:\n",
    "# Code below converts the data in numpy array format to RecordIO format\n",
    "# This is the format required by Sagemaker Linear Learner\n",
    "buff = io.BytesIO()\n",
    "smac.write_numpy_to_dense_tensor(buff, X_train, y_train)\n",
    "buff.seek(0)\n",
    "# When you write to in-memory byte arrays, it increments 1 every time you write to it\n",
    "# Let's reset that back to zero "
   ]
  },
  {
   "cell_type": "code",
   "execution_count": 49,
   "id": "d3694303-b6bd-4b76-b379-3e3278e1524c",
   "metadata": {
    "tags": []
   },
   "outputs": [
    {
     "name": "stdout",
     "output_type": "stream",
     "text": [
      "training data path:s3://udemy-linear-learner/linear-learner-capstone/train/linear-train-capstone\n"
     ]
    }
   ],
   "source": [
    "#Now using 'os' to create the files and folders\n",
    "\n",
    "import os\n",
    "\n",
    "file_name = 'linear-train-capstone'\n",
    "\n",
    "boto3.resource('s3').Bucket(bucket).Object(os.path.join(prefix,'train',file_name)).upload_fileobj(buff)\n",
    "\n",
    "#print the path so we can find our files later\n",
    "s3_data_train = 's3://{}/{}/train/{}'.format(bucket, prefix, file_name)\n",
    "print(f'training data path:{s3_data_train}')                                           \n",
    "                                           \n"
   ]
  },
  {
   "cell_type": "code",
   "execution_count": 50,
   "id": "b58ef8a6-5aeb-4d13-a6bd-55562c2f22c3",
   "metadata": {
    "tags": []
   },
   "outputs": [
    {
     "data": {
      "text/plain": [
       "0"
      ]
     },
     "execution_count": 50,
     "metadata": {},
     "output_type": "execute_result"
    }
   ],
   "source": [
    "#for test data\n",
    "\n",
    "buff = io.BytesIO() \n",
    "smac.write_numpy_to_dense_tensor(buff, X_test, y_test)\n",
    "buff.seek(0) "
   ]
  },
  {
   "cell_type": "code",
   "execution_count": 51,
   "id": "6386daa9-7750-417f-9f75-8dd73bb47953",
   "metadata": {
    "tags": []
   },
   "outputs": [
    {
     "name": "stdout",
     "output_type": "stream",
     "text": [
      "testing data path:s3://udemy-linear-learner/linear-learner-capstone/test/linear-test-capstone\n"
     ]
    }
   ],
   "source": [
    "file_name = 'linear-test-capstone'\n",
    "boto3.resource('s3').Bucket(bucket).Object(os.path.join(prefix,'test',file_name)).upload_fileobj(buff)\n",
    "\n",
    "\n",
    "#print the path so we can find our files later\n",
    "s3_data_test = 's3://{}/{}/test/{}'.format(bucket, prefix, file_name)\n",
    "print(f'testing data path:{s3_data_test}')                                           \n",
    " "
   ]
  },
  {
   "cell_type": "code",
   "execution_count": 52,
   "id": "1c988e02-e157-444e-ad75-8d20170da217",
   "metadata": {
    "tags": []
   },
   "outputs": [
    {
     "name": "stdout",
     "output_type": "stream",
     "text": [
      "Training artifacts will be uploaded to: s3://udemy-linear-learner/linear-learner-capstone/output\n"
     ]
    }
   ],
   "source": [
    "# create an output placeholder in S3 bucket to store the linear learner output\n",
    "\n",
    "output_location = 's3://{}/{}/output'.format(bucket, prefix)\n",
    "print('Training artifacts will be uploaded to: {}'.format(output_location))"
   ]
  },
  {
   "cell_type": "code",
   "execution_count": 53,
   "id": "3e0ca1fb-0b04-4370-a08a-c39b7d44e9fb",
   "metadata": {
    "tags": []
   },
   "outputs": [],
   "source": [
    "#obtaining 'container for deployment' from sage maker sdk\n",
    "\n",
    "container = sagemaker.image_uris.retrieve('linear-learner', boto3.Session().region_name)\n",
    "\n"
   ]
  },
  {
   "cell_type": "code",
   "execution_count": 54,
   "id": "b20ee1ef-11d2-4b28-a5e7-6f1c48d8d0f6",
   "metadata": {
    "tags": []
   },
   "outputs": [
    {
     "name": "stdout",
     "output_type": "stream",
     "text": [
      "2022-11-25 17:23:30 Starting - Starting the training job...ProfilerReport-1669397010: InProgress\n",
      "...\n",
      "2022-11-25 17:24:14 Starting - Preparing the instances for training......\n",
      "2022-11-25 17:25:21 Downloading - Downloading input data...\n",
      "2022-11-25 17:25:55 Training - Downloading the training image............\n",
      "2022-11-25 17:27:57 Uploading - Uploading generated training model\u001b[34mDocker entrypoint called with argument(s): train\u001b[0m\n",
      "\u001b[34mRunning default environment configuration script\u001b[0m\n",
      "\u001b[34m[11/25/2022 17:27:45 INFO 139838445905728] Reading default configuration from /opt/amazon/lib/python3.7/site-packages/algorithm/resources/default-input.json: {'mini_batch_size': '1000', 'epochs': '15', 'feature_dim': 'auto', 'use_bias': 'true', 'binary_classifier_model_selection_criteria': 'accuracy', 'f_beta': '1.0', 'target_recall': '0.8', 'target_precision': '0.8', 'num_models': 'auto', 'num_calibration_samples': '10000000', 'init_method': 'uniform', 'init_scale': '0.07', 'init_sigma': '0.01', 'init_bias': '0.0', 'optimizer': 'auto', 'loss': 'auto', 'margin': '1.0', 'quantile': '0.5', 'loss_insensitivity': '0.01', 'huber_delta': '1.0', 'num_classes': '1', 'accuracy_top_k': '3', 'wd': 'auto', 'l1': 'auto', 'momentum': 'auto', 'learning_rate': 'auto', 'beta_1': 'auto', 'beta_2': 'auto', 'bias_lr_mult': 'auto', 'bias_wd_mult': 'auto', 'use_lr_scheduler': 'true', 'lr_scheduler_step': 'auto', 'lr_scheduler_factor': 'auto', 'lr_scheduler_minimum_lr': 'auto', 'positive_example_weight_mult': '1.0', 'balance_multiclass_weights': 'false', 'normalize_data': 'true', 'normalize_label': 'auto', 'unbias_data': 'auto', 'unbias_label': 'auto', 'num_point_for_scaler': '10000', '_kvstore': 'auto', '_num_gpus': 'auto', '_num_kv_servers': 'auto', '_log_level': 'info', '_tuning_objective_metric': '', 'early_stopping_patience': '3', 'early_stopping_tolerance': '0.001', '_enable_profiler': 'false'}\u001b[0m\n",
      "\u001b[34m[11/25/2022 17:27:45 INFO 139838445905728] Merging with provided configuration from /opt/ml/input/config/hyperparameters.json: {'epochs': '4', 'feature_dim': '1', 'loss': 'absolute_loss', 'mini_batch_size': '5', 'num_models': '20', 'predictor_type': 'regressor'}\u001b[0m\n",
      "\u001b[34m[11/25/2022 17:27:45 INFO 139838445905728] Final configuration: {'mini_batch_size': '5', 'epochs': '4', 'feature_dim': '1', 'use_bias': 'true', 'binary_classifier_model_selection_criteria': 'accuracy', 'f_beta': '1.0', 'target_recall': '0.8', 'target_precision': '0.8', 'num_models': '20', 'num_calibration_samples': '10000000', 'init_method': 'uniform', 'init_scale': '0.07', 'init_sigma': '0.01', 'init_bias': '0.0', 'optimizer': 'auto', 'loss': 'absolute_loss', 'margin': '1.0', 'quantile': '0.5', 'loss_insensitivity': '0.01', 'huber_delta': '1.0', 'num_classes': '1', 'accuracy_top_k': '3', 'wd': 'auto', 'l1': 'auto', 'momentum': 'auto', 'learning_rate': 'auto', 'beta_1': 'auto', 'beta_2': 'auto', 'bias_lr_mult': 'auto', 'bias_wd_mult': 'auto', 'use_lr_scheduler': 'true', 'lr_scheduler_step': 'auto', 'lr_scheduler_factor': 'auto', 'lr_scheduler_minimum_lr': 'auto', 'positive_example_weight_mult': '1.0', 'balance_multiclass_weights': 'false', 'normalize_data': 'true', 'normalize_label': 'auto', 'unbias_data': 'auto', 'unbias_label': 'auto', 'num_point_for_scaler': '10000', '_kvstore': 'auto', '_num_gpus': 'auto', '_num_kv_servers': 'auto', '_log_level': 'info', '_tuning_objective_metric': '', 'early_stopping_patience': '3', 'early_stopping_tolerance': '0.001', '_enable_profiler': 'false', 'predictor_type': 'regressor'}\u001b[0m\n",
      "\u001b[34m[11/25/2022 17:27:48 WARNING 139838445905728] Loggers have already been setup.\u001b[0m\n",
      "\u001b[34m[11/25/2022 17:27:48 INFO 139838445905728] Final configuration: {'mini_batch_size': '5', 'epochs': '4', 'feature_dim': '1', 'use_bias': 'true', 'binary_classifier_model_selection_criteria': 'accuracy', 'f_beta': '1.0', 'target_recall': '0.8', 'target_precision': '0.8', 'num_models': '20', 'num_calibration_samples': '10000000', 'init_method': 'uniform', 'init_scale': '0.07', 'init_sigma': '0.01', 'init_bias': '0.0', 'optimizer': 'auto', 'loss': 'absolute_loss', 'margin': '1.0', 'quantile': '0.5', 'loss_insensitivity': '0.01', 'huber_delta': '1.0', 'num_classes': '1', 'accuracy_top_k': '3', 'wd': 'auto', 'l1': 'auto', 'momentum': 'auto', 'learning_rate': 'auto', 'beta_1': 'auto', 'beta_2': 'auto', 'bias_lr_mult': 'auto', 'bias_wd_mult': 'auto', 'use_lr_scheduler': 'true', 'lr_scheduler_step': 'auto', 'lr_scheduler_factor': 'auto', 'lr_scheduler_minimum_lr': 'auto', 'positive_example_weight_mult': '1.0', 'balance_multiclass_weights': 'false', 'normalize_data': 'true', 'normalize_label': 'auto', 'unbias_data': 'auto', 'unbias_label': 'auto', 'num_point_for_scaler': '10000', '_kvstore': 'auto', '_num_gpus': 'auto', '_num_kv_servers': 'auto', '_log_level': 'info', '_tuning_objective_metric': '', 'early_stopping_patience': '3', 'early_stopping_tolerance': '0.001', '_enable_profiler': 'false', 'predictor_type': 'regressor'}\u001b[0m\n",
      "\u001b[34m[11/25/2022 17:27:48 WARNING 139838445905728] Loggers have already been setup.\u001b[0m\n",
      "\u001b[34mProcess 7 is a worker.\u001b[0m\n",
      "\u001b[34m[11/25/2022 17:27:48 INFO 139838445905728] Using default worker.\u001b[0m\n",
      "\u001b[34m[11/25/2022 17:27:49 INFO 139838445905728] Checkpoint loading and saving are disabled.\u001b[0m\n",
      "\u001b[34m[2022-11-25 17:27:49.086] [tensorio] [info] epoch_stats={\"data_pipeline\": \"/opt/ml/input/data/train\", \"epoch\": 0, \"duration\": 16, \"num_examples\": 1, \"num_bytes\": 240}\u001b[0m\n",
      "\u001b[34m[11/25/2022 17:27:49 INFO 139838445905728] Create Store: local\u001b[0m\n",
      "\u001b[34m[2022-11-25 17:27:49.233] [tensorio] [info] epoch_stats={\"data_pipeline\": \"/opt/ml/input/data/train\", \"epoch\": 1, \"duration\": 146, \"num_examples\": 16, \"num_bytes\": 3840}\u001b[0m\n",
      "\u001b[34m[11/25/2022 17:27:49 INFO 139838445905728] Scaler algorithm parameters\n",
      " <algorithm.scaler.ScalerAlgorithmStable object at 0x7f2e22eec5d0>\u001b[0m\n",
      "\u001b[34m[11/25/2022 17:27:49 INFO 139838445905728] Scaling model computed with parameters:\n",
      " {'stdev_label': \u001b[0m\n",
      "\u001b[34m[4.714358]\u001b[0m\n",
      "\u001b[34m<NDArray 1 @cpu(0)>, 'stdev_weight': \u001b[0m\n",
      "\u001b[34m[62.012604]\u001b[0m\n",
      "\u001b[34m<NDArray 1 @cpu(0)>, 'mean_label': \u001b[0m\n",
      "\u001b[34m[23.337898]\u001b[0m\n",
      "\u001b[34m<NDArray 1 @cpu(0)>, 'mean_weight': \u001b[0m\n",
      "\u001b[34m[211.44984]\u001b[0m\n",
      "\u001b[34m<NDArray 1 @cpu(0)>}\u001b[0m\n",
      "\u001b[34m[11/25/2022 17:27:49 INFO 139838445905728] nvidia-smi: took 0.032 seconds to run.\u001b[0m\n",
      "\u001b[34m[11/25/2022 17:27:49 INFO 139838445905728] nvidia-smi identified 0 GPUs.\u001b[0m\n",
      "\u001b[34m[11/25/2022 17:27:49 INFO 139838445905728] Number of GPUs being used: 0\u001b[0m\n",
      "\u001b[34m#metrics {\"StartTime\": 1669397269.3165925, \"EndTime\": 1669397269.3166335, \"Dimensions\": {\"Algorithm\": \"Linear Learner\", \"Host\": \"algo-1\", \"Operation\": \"training\", \"Meta\": \"init_train_data_iter\"}, \"Metrics\": {\"Total Records Seen\": {\"sum\": 85.0, \"count\": 1, \"min\": 85, \"max\": 85}, \"Total Batches Seen\": {\"sum\": 17.0, \"count\": 1, \"min\": 17, \"max\": 17}, \"Max Records Seen Between Resets\": {\"sum\": 80.0, \"count\": 1, \"min\": 80, \"max\": 80}, \"Max Batches Seen Between Resets\": {\"sum\": 16.0, \"count\": 1, \"min\": 16, \"max\": 16}, \"Reset Count\": {\"sum\": 2.0, \"count\": 1, \"min\": 2, \"max\": 2}, \"Number of Records Since Last Reset\": {\"sum\": 0.0, \"count\": 1, \"min\": 0, \"max\": 0}, \"Number of Batches Since Last Reset\": {\"sum\": 0.0, \"count\": 1, \"min\": 0, \"max\": 0}}}\u001b[0m\n",
      "\u001b[34m[2022-11-25 17:27:49.581] [tensorio] [info] epoch_stats={\"data_pipeline\": \"/opt/ml/input/data/train\", \"epoch\": 4, \"duration\": 264, \"num_examples\": 16, \"num_bytes\": 3840}\u001b[0m\n",
      "\u001b[34m#metrics {\"StartTime\": 1669397269.5820503, \"EndTime\": 1669397269.5821254, \"Dimensions\": {\"Algorithm\": \"Linear Learner\", \"Host\": \"algo-1\", \"Operation\": \"training\", \"epoch\": 0, \"model\": 0}, \"Metrics\": {\"train_absolute_loss_objective\": {\"sum\": 0.7692395523190498, \"count\": 1, \"min\": 0.7692395523190498, \"max\": 0.7692395523190498}}}\u001b[0m\n",
      "\u001b[34m#metrics {\"StartTime\": 1669397269.5822196, \"EndTime\": 1669397269.5822365, \"Dimensions\": {\"Algorithm\": \"Linear Learner\", \"Host\": \"algo-1\", \"Operation\": \"training\", \"epoch\": 0, \"model\": 1}, \"Metrics\": {\"train_absolute_loss_objective\": {\"sum\": 0.7517327457666397, \"count\": 1, \"min\": 0.7517327457666397, \"max\": 0.7517327457666397}}}\u001b[0m\n",
      "\u001b[34m#metrics {\"StartTime\": 1669397269.582281, \"EndTime\": 1669397269.582293, \"Dimensions\": {\"Algorithm\": \"Linear Learner\", \"Host\": \"algo-1\", \"Operation\": \"training\", \"epoch\": 0, \"model\": 2}, \"Metrics\": {\"train_absolute_loss_objective\": {\"sum\": 0.7574209436774254, \"count\": 1, \"min\": 0.7574209436774254, \"max\": 0.7574209436774254}}}\u001b[0m\n",
      "\u001b[34m#metrics {\"StartTime\": 1669397269.5823326, \"EndTime\": 1669397269.582344, \"Dimensions\": {\"Algorithm\": \"Linear Learner\", \"Host\": \"algo-1\", \"Operation\": \"training\", \"epoch\": 0, \"model\": 3}, \"Metrics\": {\"train_absolute_loss_objective\": {\"sum\": 0.7425046280026436, \"count\": 1, \"min\": 0.7425046280026436, \"max\": 0.7425046280026436}}}\u001b[0m\n",
      "\u001b[34m#metrics {\"StartTime\": 1669397269.5823827, \"EndTime\": 1669397269.5823936, \"Dimensions\": {\"Algorithm\": \"Linear Learner\", \"Host\": \"algo-1\", \"Operation\": \"training\", \"epoch\": 0, \"model\": 4}, \"Metrics\": {\"train_absolute_loss_objective\": {\"sum\": 0.8810208953917027, \"count\": 1, \"min\": 0.8810208953917027, \"max\": 0.8810208953917027}}}\u001b[0m\n",
      "\u001b[34m#metrics {\"StartTime\": 1669397269.582432, \"EndTime\": 1669397269.5824428, \"Dimensions\": {\"Algorithm\": \"Linear Learner\", \"Host\": \"algo-1\", \"Operation\": \"training\", \"epoch\": 0, \"model\": 5}, \"Metrics\": {\"train_absolute_loss_objective\": {\"sum\": 0.6144910171627999, \"count\": 1, \"min\": 0.6144910171627999, \"max\": 0.6144910171627999}}}\u001b[0m\n",
      "\u001b[34m#metrics {\"StartTime\": 1669397269.5824807, \"EndTime\": 1669397269.5824912, \"Dimensions\": {\"Algorithm\": \"Linear Learner\", \"Host\": \"algo-1\", \"Operation\": \"training\", \"epoch\": 0, \"model\": 6}, \"Metrics\": {\"train_absolute_loss_objective\": {\"sum\": 0.8846437454223632, \"count\": 1, \"min\": 0.8846437454223632, \"max\": 0.8846437454223632}}}\u001b[0m\n",
      "\u001b[34m#metrics {\"StartTime\": 1669397269.582529, \"EndTime\": 1669397269.5825396, \"Dimensions\": {\"Algorithm\": \"Linear Learner\", \"Host\": \"algo-1\", \"Operation\": \"training\", \"epoch\": 0, \"model\": 7}, \"Metrics\": {\"train_absolute_loss_objective\": {\"sum\": 0.6333824805915356, \"count\": 1, \"min\": 0.6333824805915356, \"max\": 0.6333824805915356}}}\u001b[0m\n",
      "\u001b[34m#metrics {\"StartTime\": 1669397269.5825772, \"EndTime\": 1669397269.582588, \"Dimensions\": {\"Algorithm\": \"Linear Learner\", \"Host\": \"algo-1\", \"Operation\": \"training\", \"epoch\": 0, \"model\": 8}, \"Metrics\": {\"train_absolute_loss_objective\": {\"sum\": 0.75166886895895, \"count\": 1, \"min\": 0.75166886895895, \"max\": 0.75166886895895}}}\u001b[0m\n",
      "\u001b[34m#metrics {\"StartTime\": 1669397269.582625, \"EndTime\": 1669397269.5826359, \"Dimensions\": {\"Algorithm\": \"Linear Learner\", \"Host\": \"algo-1\", \"Operation\": \"training\", \"epoch\": 0, \"model\": 9}, \"Metrics\": {\"train_absolute_loss_objective\": {\"sum\": 0.7616458401083946, \"count\": 1, \"min\": 0.7616458401083946, \"max\": 0.7616458401083946}}}\u001b[0m\n",
      "\u001b[34m#metrics {\"StartTime\": 1669397269.582677, \"EndTime\": 1669397269.582688, \"Dimensions\": {\"Algorithm\": \"Linear Learner\", \"Host\": \"algo-1\", \"Operation\": \"training\", \"epoch\": 0, \"model\": 10}, \"Metrics\": {\"train_absolute_loss_objective\": {\"sum\": 0.7739189550280571, \"count\": 1, \"min\": 0.7739189550280571, \"max\": 0.7739189550280571}}}\u001b[0m\n",
      "\u001b[34m#metrics {\"StartTime\": 1669397269.5827265, \"EndTime\": 1669397269.5827372, \"Dimensions\": {\"Algorithm\": \"Linear Learner\", \"Host\": \"algo-1\", \"Operation\": \"training\", \"epoch\": 0, \"model\": 11}, \"Metrics\": {\"train_absolute_loss_objective\": {\"sum\": 0.7868839517235756, \"count\": 1, \"min\": 0.7868839517235756, \"max\": 0.7868839517235756}}}\u001b[0m\n",
      "\u001b[34m#metrics {\"StartTime\": 1669397269.5827775, \"EndTime\": 1669397269.5827887, \"Dimensions\": {\"Algorithm\": \"Linear Learner\", \"Host\": \"algo-1\", \"Operation\": \"training\", \"epoch\": 0, \"model\": 12}, \"Metrics\": {\"train_absolute_loss_objective\": {\"sum\": 0.878924684971571, \"count\": 1, \"min\": 0.878924684971571, \"max\": 0.878924684971571}}}\u001b[0m\n",
      "\u001b[34m#metrics {\"StartTime\": 1669397269.5828328, \"EndTime\": 1669397269.5828447, \"Dimensions\": {\"Algorithm\": \"Linear Learner\", \"Host\": \"algo-1\", \"Operation\": \"training\", \"epoch\": 0, \"model\": 13}, \"Metrics\": {\"train_absolute_loss_objective\": {\"sum\": 0.6472313418984413, \"count\": 1, \"min\": 0.6472313418984413, \"max\": 0.6472313418984413}}}\u001b[0m\n",
      "\u001b[34m#metrics {\"StartTime\": 1669397269.582884, \"EndTime\": 1669397269.582895, \"Dimensions\": {\"Algorithm\": \"Linear Learner\", \"Host\": \"algo-1\", \"Operation\": \"training\", \"epoch\": 0, \"model\": 14}, \"Metrics\": {\"train_absolute_loss_objective\": {\"sum\": 0.8796123012900352, \"count\": 1, \"min\": 0.8796123012900352, \"max\": 0.8796123012900352}}}\u001b[0m\n",
      "\u001b[34m#metrics {\"StartTime\": 1669397269.5829327, \"EndTime\": 1669397269.5829434, \"Dimensions\": {\"Algorithm\": \"Linear Learner\", \"Host\": \"algo-1\", \"Operation\": \"training\", \"epoch\": 0, \"model\": 15}, \"Metrics\": {\"train_absolute_loss_objective\": {\"sum\": 0.6449244670569897, \"count\": 1, \"min\": 0.6449244670569897, \"max\": 0.6449244670569897}}}\u001b[0m\n",
      "\u001b[34m#metrics {\"StartTime\": 1669397269.5829813, \"EndTime\": 1669397269.582992, \"Dimensions\": {\"Algorithm\": \"Linear Learner\", \"Host\": \"algo-1\", \"Operation\": \"training\", \"epoch\": 0, \"model\": 16}, \"Metrics\": {\"train_absolute_loss_objective\": {\"sum\": 0.8007978409528732, \"count\": 1, \"min\": 0.8007978409528732, \"max\": 0.8007978409528732}}}\u001b[0m\n",
      "\u001b[34m#metrics {\"StartTime\": 1669397269.5830326, \"EndTime\": 1669397269.5830436, \"Dimensions\": {\"Algorithm\": \"Linear Learner\", \"Host\": \"algo-1\", \"Operation\": \"training\", \"epoch\": 0, \"model\": 17}, \"Metrics\": {\"train_absolute_loss_objective\": {\"sum\": 0.7560331135988235, \"count\": 1, \"min\": 0.7560331135988235, \"max\": 0.7560331135988235}}}\u001b[0m\n",
      "\u001b[34m#metrics {\"StartTime\": 1669397269.5830817, \"EndTime\": 1669397269.5830927, \"Dimensions\": {\"Algorithm\": \"Linear Learner\", \"Host\": \"algo-1\", \"Operation\": \"training\", \"epoch\": 0, \"model\": 18}, \"Metrics\": {\"train_absolute_loss_objective\": {\"sum\": 0.7772579848766327, \"count\": 1, \"min\": 0.7772579848766327, \"max\": 0.7772579848766327}}}\u001b[0m\n",
      "\u001b[34m#metrics {\"StartTime\": 1669397269.5831301, \"EndTime\": 1669397269.5831409, \"Dimensions\": {\"Algorithm\": \"Linear Learner\", \"Host\": \"algo-1\", \"Operation\": \"training\", \"epoch\": 0, \"model\": 19}, \"Metrics\": {\"train_absolute_loss_objective\": {\"sum\": 0.7795910581946373, \"count\": 1, \"min\": 0.7795910581946373, \"max\": 0.7795910581946373}}}\u001b[0m\n",
      "\u001b[34m[11/25/2022 17:27:49 INFO 139838445905728] #quality_metric: host=algo-1, epoch=0, train absolute_loss_objective <loss>=0.7692395523190498\u001b[0m\n",
      "\u001b[34m[11/25/2022 17:27:49 INFO 139838445905728] #early_stopping_criteria_metric: host=algo-1, epoch=0, criteria=absolute_loss_objective, value=0.6144910171627999\u001b[0m\n",
      "\u001b[34m[11/25/2022 17:27:49 INFO 139838445905728] Epoch 0: Loss improved. Updating best model\u001b[0m\n",
      "\u001b[34m[11/25/2022 17:27:49 INFO 139838445905728] Saving model for epoch: 0\u001b[0m\n",
      "\u001b[34m[11/25/2022 17:27:49 INFO 139838445905728] Saved checkpoint to \"/tmp/tmp1_v_sym7/mx-mod-0000.params\"\u001b[0m\n",
      "\u001b[34m[11/25/2022 17:27:49 INFO 139838445905728] #progress_metric: host=algo-1, completed 25.0 % of epochs\u001b[0m\n",
      "\u001b[34m#metrics {\"StartTime\": 1669397269.3169186, \"EndTime\": 1669397269.5956042, \"Dimensions\": {\"Algorithm\": \"Linear Learner\", \"Host\": \"algo-1\", \"Operation\": \"training\", \"epoch\": 0, \"Meta\": \"training_data_iter\"}, \"Metrics\": {\"Total Records Seen\": {\"sum\": 165.0, \"count\": 1, \"min\": 165, \"max\": 165}, \"Total Batches Seen\": {\"sum\": 33.0, \"count\": 1, \"min\": 33, \"max\": 33}, \"Max Records Seen Between Resets\": {\"sum\": 80.0, \"count\": 1, \"min\": 80, \"max\": 80}, \"Max Batches Seen Between Resets\": {\"sum\": 16.0, \"count\": 1, \"min\": 16, \"max\": 16}, \"Reset Count\": {\"sum\": 3.0, \"count\": 1, \"min\": 3, \"max\": 3}, \"Number of Records Since Last Reset\": {\"sum\": 80.0, \"count\": 1, \"min\": 80, \"max\": 80}, \"Number of Batches Since Last Reset\": {\"sum\": 16.0, \"count\": 1, \"min\": 16, \"max\": 16}}}\u001b[0m\n",
      "\u001b[34m[11/25/2022 17:27:49 INFO 139838445905728] #throughput_metric: host=algo-1, train throughput=286.9023258677328 records/second\u001b[0m\n",
      "\u001b[34m[2022-11-25 17:27:49.809] [tensorio] [info] epoch_stats={\"data_pipeline\": \"/opt/ml/input/data/train\", \"epoch\": 6, \"duration\": 213, \"num_examples\": 16, \"num_bytes\": 3840}\u001b[0m\n",
      "\u001b[34m#metrics {\"StartTime\": 1669397269.8098068, \"EndTime\": 1669397269.8098786, \"Dimensions\": {\"Algorithm\": \"Linear Learner\", \"Host\": \"algo-1\", \"Operation\": \"training\", \"epoch\": 1, \"model\": 0}, \"Metrics\": {\"train_absolute_loss_objective\": {\"sum\": 0.708296051621437, \"count\": 1, \"min\": 0.708296051621437, \"max\": 0.708296051621437}}}\u001b[0m\n",
      "\u001b[34m#metrics {\"StartTime\": 1669397269.8099797, \"EndTime\": 1669397269.810003, \"Dimensions\": {\"Algorithm\": \"Linear Learner\", \"Host\": \"algo-1\", \"Operation\": \"training\", \"epoch\": 1, \"model\": 1}, \"Metrics\": {\"train_absolute_loss_objective\": {\"sum\": 0.6903348118066788, \"count\": 1, \"min\": 0.6903348118066788, \"max\": 0.6903348118066788}}}\u001b[0m\n",
      "\u001b[34m#metrics {\"StartTime\": 1669397269.8100646, \"EndTime\": 1669397269.8100834, \"Dimensions\": {\"Algorithm\": \"Linear Learner\", \"Host\": \"algo-1\", \"Operation\": \"training\", \"epoch\": 1, \"model\": 2}, \"Metrics\": {\"train_absolute_loss_objective\": {\"sum\": 0.6967088013887406, \"count\": 1, \"min\": 0.6967088013887406, \"max\": 0.6967088013887406}}}\u001b[0m\n",
      "\u001b[34m#metrics {\"StartTime\": 1669397269.8101358, \"EndTime\": 1669397269.8101473, \"Dimensions\": {\"Algorithm\": \"Linear Learner\", \"Host\": \"algo-1\", \"Operation\": \"training\", \"epoch\": 1, \"model\": 3}, \"Metrics\": {\"train_absolute_loss_objective\": {\"sum\": 0.6812936469912529, \"count\": 1, \"min\": 0.6812936469912529, \"max\": 0.6812936469912529}}}\u001b[0m\n",
      "\u001b[34m#metrics {\"StartTime\": 1669397269.8101969, \"EndTime\": 1669397269.8102136, \"Dimensions\": {\"Algorithm\": \"Linear Learner\", \"Host\": \"algo-1\", \"Operation\": \"training\", \"epoch\": 1, \"model\": 4}, \"Metrics\": {\"train_absolute_loss_objective\": {\"sum\": 0.4719702385365963, \"count\": 1, \"min\": 0.4719702385365963, \"max\": 0.4719702385365963}}}\u001b[0m\n",
      "\u001b[34m#metrics {\"StartTime\": 1669397269.8102682, \"EndTime\": 1669397269.8102853, \"Dimensions\": {\"Algorithm\": \"Linear Learner\", \"Host\": \"algo-1\", \"Operation\": \"training\", \"epoch\": 1, \"model\": 5}, \"Metrics\": {\"train_absolute_loss_objective\": {\"sum\": 0.3834783397614956, \"count\": 1, \"min\": 0.3834783397614956, \"max\": 0.3834783397614956}}}\u001b[0m\n",
      "\u001b[34m#metrics {\"StartTime\": 1669397269.8103182, \"EndTime\": 1669397269.8103328, \"Dimensions\": {\"Algorithm\": \"Linear Learner\", \"Host\": \"algo-1\", \"Operation\": \"training\", \"epoch\": 1, \"model\": 6}, \"Metrics\": {\"train_absolute_loss_objective\": {\"sum\": 0.4698313243687153, \"count\": 1, \"min\": 0.4698313243687153, \"max\": 0.4698313243687153}}}\u001b[0m\n",
      "\u001b[34m#metrics {\"StartTime\": 1669397269.810382, \"EndTime\": 1669397269.8103988, \"Dimensions\": {\"Algorithm\": \"Linear Learner\", \"Host\": \"algo-1\", \"Operation\": \"training\", \"epoch\": 1, \"model\": 7}, \"Metrics\": {\"train_absolute_loss_objective\": {\"sum\": 0.43971508666872977, \"count\": 1, \"min\": 0.43971508666872977, \"max\": 0.43971508666872977}}}\u001b[0m\n",
      "\u001b[34m#metrics {\"StartTime\": 1669397269.8104491, \"EndTime\": 1669397269.8104599, \"Dimensions\": {\"Algorithm\": \"Linear Learner\", \"Host\": \"algo-1\", \"Operation\": \"training\", \"epoch\": 1, \"model\": 8}, \"Metrics\": {\"train_absolute_loss_objective\": {\"sum\": 0.6910810902714729, \"count\": 1, \"min\": 0.6910810902714729, \"max\": 0.6910810902714729}}}\u001b[0m\n",
      "\u001b[34m#metrics {\"StartTime\": 1669397269.810489, \"EndTime\": 1669397269.8104973, \"Dimensions\": {\"Algorithm\": \"Linear Learner\", \"Host\": \"algo-1\", \"Operation\": \"training\", \"epoch\": 1, \"model\": 9}, \"Metrics\": {\"train_absolute_loss_objective\": {\"sum\": 0.7000582441687584, \"count\": 1, \"min\": 0.7000582441687584, \"max\": 0.7000582441687584}}}\u001b[0m\n",
      "\u001b[34m#metrics {\"StartTime\": 1669397269.810542, \"EndTime\": 1669397269.8105547, \"Dimensions\": {\"Algorithm\": \"Linear Learner\", \"Host\": \"algo-1\", \"Operation\": \"training\", \"epoch\": 1, \"model\": 10}, \"Metrics\": {\"train_absolute_loss_objective\": {\"sum\": 0.7128938898444176, \"count\": 1, \"min\": 0.7128938898444176, \"max\": 0.7128938898444176}}}\u001b[0m\n",
      "\u001b[34m#metrics {\"StartTime\": 1669397269.810601, \"EndTime\": 1669397269.8106167, \"Dimensions\": {\"Algorithm\": \"Linear Learner\", \"Host\": \"algo-1\", \"Operation\": \"training\", \"epoch\": 1, \"model\": 11}, \"Metrics\": {\"train_absolute_loss_objective\": {\"sum\": 0.7251041650772094, \"count\": 1, \"min\": 0.7251041650772094, \"max\": 0.7251041650772094}}}\u001b[0m\n",
      "\u001b[34m#metrics {\"StartTime\": 1669397269.8106644, \"EndTime\": 1669397269.8106802, \"Dimensions\": {\"Algorithm\": \"Linear Learner\", \"Host\": \"algo-1\", \"Operation\": \"training\", \"epoch\": 1, \"model\": 12}, \"Metrics\": {\"train_absolute_loss_objective\": {\"sum\": 0.4720322050154209, \"count\": 1, \"min\": 0.4720322050154209, \"max\": 0.4720322050154209}}}\u001b[0m\n",
      "\u001b[34m#metrics {\"StartTime\": 1669397269.8107321, \"EndTime\": 1669397269.8107498, \"Dimensions\": {\"Algorithm\": \"Linear Learner\", \"Host\": \"algo-1\", \"Operation\": \"training\", \"epoch\": 1, \"model\": 13}, \"Metrics\": {\"train_absolute_loss_objective\": {\"sum\": 0.38772243410348894, \"count\": 1, \"min\": 0.38772243410348894, \"max\": 0.38772243410348894}}}\u001b[0m\n",
      "\u001b[34m#metrics {\"StartTime\": 1669397269.8108146, \"EndTime\": 1669397269.8108337, \"Dimensions\": {\"Algorithm\": \"Linear Learner\", \"Host\": \"algo-1\", \"Operation\": \"training\", \"epoch\": 1, \"model\": 14}, \"Metrics\": {\"train_absolute_loss_objective\": {\"sum\": 0.4716295972466469, \"count\": 1, \"min\": 0.4716295972466469, \"max\": 0.4716295972466469}}}\u001b[0m\n",
      "\u001b[34m#metrics {\"StartTime\": 1669397269.8108816, \"EndTime\": 1669397269.8108978, \"Dimensions\": {\"Algorithm\": \"Linear Learner\", \"Host\": \"algo-1\", \"Operation\": \"training\", \"epoch\": 1, \"model\": 15}, \"Metrics\": {\"train_absolute_loss_objective\": {\"sum\": 0.38915434926748277, \"count\": 1, \"min\": 0.38915434926748277, \"max\": 0.38915434926748277}}}\u001b[0m\n",
      "\u001b[34m#metrics {\"StartTime\": 1669397269.8109605, \"EndTime\": 1669397269.8109794, \"Dimensions\": {\"Algorithm\": \"Linear Learner\", \"Host\": \"algo-1\", \"Operation\": \"training\", \"epoch\": 1, \"model\": 16}, \"Metrics\": {\"train_absolute_loss_objective\": {\"sum\": 0.7403163462877274, \"count\": 1, \"min\": 0.7403163462877274, \"max\": 0.7403163462877274}}}\u001b[0m\n",
      "\u001b[34m#metrics {\"StartTime\": 1669397269.8110242, \"EndTime\": 1669397269.8110404, \"Dimensions\": {\"Algorithm\": \"Linear Learner\", \"Host\": \"algo-1\", \"Operation\": \"training\", \"epoch\": 1, \"model\": 17}, \"Metrics\": {\"train_absolute_loss_objective\": {\"sum\": 0.6958337485790252, \"count\": 1, \"min\": 0.6958337485790252, \"max\": 0.6958337485790252}}}\u001b[0m\n",
      "\u001b[34m#metrics {\"StartTime\": 1669397269.8111033, \"EndTime\": 1669397269.8111207, \"Dimensions\": {\"Algorithm\": \"Linear Learner\", \"Host\": \"algo-1\", \"Operation\": \"training\", \"epoch\": 1, \"model\": 18}, \"Metrics\": {\"train_absolute_loss_objective\": {\"sum\": 0.7171989336609841, \"count\": 1, \"min\": 0.7171989336609841, \"max\": 0.7171989336609841}}}\u001b[0m\n",
      "\u001b[34m#metrics {\"StartTime\": 1669397269.8111708, \"EndTime\": 1669397269.8111875, \"Dimensions\": {\"Algorithm\": \"Linear Learner\", \"Host\": \"algo-1\", \"Operation\": \"training\", \"epoch\": 1, \"model\": 19}, \"Metrics\": {\"train_absolute_loss_objective\": {\"sum\": 0.7186669558286667, \"count\": 1, \"min\": 0.7186669558286667, \"max\": 0.7186669558286667}}}\u001b[0m\n",
      "\u001b[34m[11/25/2022 17:27:49 INFO 139838445905728] #quality_metric: host=algo-1, epoch=1, train absolute_loss_objective <loss>=0.708296051621437\u001b[0m\n",
      "\u001b[34m[11/25/2022 17:27:49 INFO 139838445905728] #early_stopping_criteria_metric: host=algo-1, epoch=1, criteria=absolute_loss_objective, value=0.3834783397614956\u001b[0m\n",
      "\u001b[34m[11/25/2022 17:27:49 INFO 139838445905728] Epoch 1: Loss improved. Updating best model\u001b[0m\n",
      "\u001b[34m[11/25/2022 17:27:49 INFO 139838445905728] Saving model for epoch: 1\u001b[0m\n",
      "\u001b[34m[11/25/2022 17:27:49 INFO 139838445905728] Saved checkpoint to \"/tmp/tmpxd2_3bht/mx-mod-0000.params\"\u001b[0m\n",
      "\u001b[34m[11/25/2022 17:27:49 INFO 139838445905728] #progress_metric: host=algo-1, completed 50.0 % of epochs\u001b[0m\n",
      "\u001b[34m#metrics {\"StartTime\": 1669397269.5959458, \"EndTime\": 1669397269.820248, \"Dimensions\": {\"Algorithm\": \"Linear Learner\", \"Host\": \"algo-1\", \"Operation\": \"training\", \"epoch\": 1, \"Meta\": \"training_data_iter\"}, \"Metrics\": {\"Total Records Seen\": {\"sum\": 245.0, \"count\": 1, \"min\": 245, \"max\": 245}, \"Total Batches Seen\": {\"sum\": 49.0, \"count\": 1, \"min\": 49, \"max\": 49}, \"Max Records Seen Between Resets\": {\"sum\": 80.0, \"count\": 1, \"min\": 80, \"max\": 80}, \"Max Batches Seen Between Resets\": {\"sum\": 16.0, \"count\": 1, \"min\": 16, \"max\": 16}, \"Reset Count\": {\"sum\": 4.0, \"count\": 1, \"min\": 4, \"max\": 4}, \"Number of Records Since Last Reset\": {\"sum\": 80.0, \"count\": 1, \"min\": 80, \"max\": 80}, \"Number of Batches Since Last Reset\": {\"sum\": 16.0, \"count\": 1, \"min\": 16, \"max\": 16}}}\u001b[0m\n",
      "\u001b[34m[11/25/2022 17:27:49 INFO 139838445905728] #throughput_metric: host=algo-1, train throughput=356.43913875282965 records/second\u001b[0m\n",
      "\u001b[34m[2022-11-25 17:27:50.051] [tensorio] [info] epoch_stats={\"data_pipeline\": \"/opt/ml/input/data/train\", \"epoch\": 8, \"duration\": 231, \"num_examples\": 16, \"num_bytes\": 3840}\u001b[0m\n",
      "\u001b[34m#metrics {\"StartTime\": 1669397270.0520515, \"EndTime\": 1669397270.0521345, \"Dimensions\": {\"Algorithm\": \"Linear Learner\", \"Host\": \"algo-1\", \"Operation\": \"training\", \"epoch\": 2, \"model\": 0}, \"Metrics\": {\"train_absolute_loss_objective\": {\"sum\": 0.6537851378321647, \"count\": 1, \"min\": 0.6537851378321647, \"max\": 0.6537851378321647}}}\u001b[0m\n",
      "\u001b[34m#metrics {\"StartTime\": 1669397270.052227, \"EndTime\": 1669397270.0522497, \"Dimensions\": {\"Algorithm\": \"Linear Learner\", \"Host\": \"algo-1\", \"Operation\": \"training\", \"epoch\": 2, \"model\": 1}, \"Metrics\": {\"train_absolute_loss_objective\": {\"sum\": 0.6360167041420937, \"count\": 1, \"min\": 0.6360167041420937, \"max\": 0.6360167041420937}}}\u001b[0m\n",
      "\u001b[34m#metrics {\"StartTime\": 1669397270.0523088, \"EndTime\": 1669397270.0523295, \"Dimensions\": {\"Algorithm\": \"Linear Learner\", \"Host\": \"algo-1\", \"Operation\": \"training\", \"epoch\": 2, \"model\": 2}, \"Metrics\": {\"train_absolute_loss_objective\": {\"sum\": 0.6425290584564209, \"count\": 1, \"min\": 0.6425290584564209, \"max\": 0.6425290584564209}}}\u001b[0m\n",
      "\u001b[34m#metrics {\"StartTime\": 1669397270.052389, \"EndTime\": 1669397270.0524077, \"Dimensions\": {\"Algorithm\": \"Linear Learner\", \"Host\": \"algo-1\", \"Operation\": \"training\", \"epoch\": 2, \"model\": 3}, \"Metrics\": {\"train_absolute_loss_objective\": {\"sum\": 0.628009058535099, \"count\": 1, \"min\": 0.628009058535099, \"max\": 0.628009058535099}}}\u001b[0m\n",
      "\u001b[34m#metrics {\"StartTime\": 1669397270.0524642, \"EndTime\": 1669397270.0524826, \"Dimensions\": {\"Algorithm\": \"Linear Learner\", \"Host\": \"algo-1\", \"Operation\": \"training\", \"epoch\": 2, \"model\": 4}, \"Metrics\": {\"train_absolute_loss_objective\": {\"sum\": 0.28265293315052986, \"count\": 1, \"min\": 0.28265293315052986, \"max\": 0.28265293315052986}}}\u001b[0m\n",
      "\u001b[34m#metrics {\"StartTime\": 1669397270.0525393, \"EndTime\": 1669397270.0525587, \"Dimensions\": {\"Algorithm\": \"Linear Learner\", \"Host\": \"algo-1\", \"Operation\": \"training\", \"epoch\": 2, \"model\": 5}, \"Metrics\": {\"train_absolute_loss_objective\": {\"sum\": 0.2658702418208122, \"count\": 1, \"min\": 0.2658702418208122, \"max\": 0.2658702418208122}}}\u001b[0m\n",
      "\u001b[34m#metrics {\"StartTime\": 1669397270.0526226, \"EndTime\": 1669397270.0526416, \"Dimensions\": {\"Algorithm\": \"Linear Learner\", \"Host\": \"algo-1\", \"Operation\": \"training\", \"epoch\": 2, \"model\": 6}, \"Metrics\": {\"train_absolute_loss_objective\": {\"sum\": 0.2833916023373604, \"count\": 1, \"min\": 0.2833916023373604, \"max\": 0.2833916023373604}}}\u001b[0m\n",
      "\u001b[34m#metrics {\"StartTime\": 1669397270.0526984, \"EndTime\": 1669397270.0527172, \"Dimensions\": {\"Algorithm\": \"Linear Learner\", \"Host\": \"algo-1\", \"Operation\": \"training\", \"epoch\": 2, \"model\": 7}, \"Metrics\": {\"train_absolute_loss_objective\": {\"sum\": 0.30010261610150335, \"count\": 1, \"min\": 0.30010261610150335, \"max\": 0.30010261610150335}}}\u001b[0m\n",
      "\u001b[34m#metrics {\"StartTime\": 1669397270.0527751, \"EndTime\": 1669397270.052793, \"Dimensions\": {\"Algorithm\": \"Linear Learner\", \"Host\": \"algo-1\", \"Operation\": \"training\", \"epoch\": 2, \"model\": 8}, \"Metrics\": {\"train_absolute_loss_objective\": {\"sum\": 0.6370939671993255, \"count\": 1, \"min\": 0.6370939671993255, \"max\": 0.6370939671993255}}}\u001b[0m\n",
      "\u001b[34m#metrics {\"StartTime\": 1669397270.0528579, \"EndTime\": 1669397270.0528767, \"Dimensions\": {\"Algorithm\": \"Linear Learner\", \"Host\": \"algo-1\", \"Operation\": \"training\", \"epoch\": 2, \"model\": 9}, \"Metrics\": {\"train_absolute_loss_objective\": {\"sum\": 0.6454849064350128, \"count\": 1, \"min\": 0.6454849064350128, \"max\": 0.6454849064350128}}}\u001b[0m\n",
      "\u001b[34m#metrics {\"StartTime\": 1669397270.0529277, \"EndTime\": 1669397270.052945, \"Dimensions\": {\"Algorithm\": \"Linear Learner\", \"Host\": \"algo-1\", \"Operation\": \"training\", \"epoch\": 2, \"model\": 10}, \"Metrics\": {\"train_absolute_loss_objective\": {\"sum\": 0.6582814022898674, \"count\": 1, \"min\": 0.6582814022898674, \"max\": 0.6582814022898674}}}\u001b[0m\n",
      "\u001b[34m#metrics {\"StartTime\": 1669397270.0529974, \"EndTime\": 1669397270.0530088, \"Dimensions\": {\"Algorithm\": \"Linear Learner\", \"Host\": \"algo-1\", \"Operation\": \"training\", \"epoch\": 2, \"model\": 11}, \"Metrics\": {\"train_absolute_loss_objective\": {\"sum\": 0.6687325283885002, \"count\": 1, \"min\": 0.6687325283885002, \"max\": 0.6687325283885002}}}\u001b[0m\n",
      "\u001b[34m#metrics {\"StartTime\": 1669397270.0530386, \"EndTime\": 1669397270.053047, \"Dimensions\": {\"Algorithm\": \"Linear Learner\", \"Host\": \"algo-1\", \"Operation\": \"training\", \"epoch\": 2, \"model\": 12}, \"Metrics\": {\"train_absolute_loss_objective\": {\"sum\": 0.2851183384656906, \"count\": 1, \"min\": 0.2851183384656906, \"max\": 0.2851183384656906}}}\u001b[0m\n",
      "\u001b[34m#metrics {\"StartTime\": 1669397270.0530841, \"EndTime\": 1669397270.0531, \"Dimensions\": {\"Algorithm\": \"Linear Learner\", \"Host\": \"algo-1\", \"Operation\": \"training\", \"epoch\": 2, \"model\": 13}, \"Metrics\": {\"train_absolute_loss_objective\": {\"sum\": 0.2744018130004406, \"count\": 1, \"min\": 0.2744018130004406, \"max\": 0.2744018130004406}}}\u001b[0m\n",
      "\u001b[34m#metrics {\"StartTime\": 1669397270.0531468, \"EndTime\": 1669397270.0531573, \"Dimensions\": {\"Algorithm\": \"Linear Learner\", \"Host\": \"algo-1\", \"Operation\": \"training\", \"epoch\": 2, \"model\": 14}, \"Metrics\": {\"train_absolute_loss_objective\": {\"sum\": 0.2851642407476902, \"count\": 1, \"min\": 0.2851642407476902, \"max\": 0.2851642407476902}}}\u001b[0m\n",
      "\u001b[34m#metrics {\"StartTime\": 1669397270.0532067, \"EndTime\": 1669397270.0532246, \"Dimensions\": {\"Algorithm\": \"Linear Learner\", \"Host\": \"algo-1\", \"Operation\": \"training\", \"epoch\": 2, \"model\": 15}, \"Metrics\": {\"train_absolute_loss_objective\": {\"sum\": 0.2669073410332203, \"count\": 1, \"min\": 0.2669073410332203, \"max\": 0.2669073410332203}}}\u001b[0m\n",
      "\u001b[34m#metrics {\"StartTime\": 1669397270.0532758, \"EndTime\": 1669397270.0532875, \"Dimensions\": {\"Algorithm\": \"Linear Learner\", \"Host\": \"algo-1\", \"Operation\": \"training\", \"epoch\": 2, \"model\": 16}, \"Metrics\": {\"train_absolute_loss_objective\": {\"sum\": 0.6883928656578064, \"count\": 1, \"min\": 0.6883928656578064, \"max\": 0.6883928656578064}}}\u001b[0m\n",
      "\u001b[34m#metrics {\"StartTime\": 1669397270.0533168, \"EndTime\": 1669397270.0533254, \"Dimensions\": {\"Algorithm\": \"Linear Learner\", \"Host\": \"algo-1\", \"Operation\": \"training\", \"epoch\": 2, \"model\": 17}, \"Metrics\": {\"train_absolute_loss_objective\": {\"sum\": 0.6450899720191956, \"count\": 1, \"min\": 0.6450899720191956, \"max\": 0.6450899720191956}}}\u001b[0m\n",
      "\u001b[34m#metrics {\"StartTime\": 1669397270.0533724, \"EndTime\": 1669397270.0533895, \"Dimensions\": {\"Algorithm\": \"Linear Learner\", \"Host\": \"algo-1\", \"Operation\": \"training\", \"epoch\": 2, \"model\": 18}, \"Metrics\": {\"train_absolute_loss_objective\": {\"sum\": 0.6656790405511857, \"count\": 1, \"min\": 0.6656790405511857, \"max\": 0.6656790405511857}}}\u001b[0m\n",
      "\u001b[34m#metrics {\"StartTime\": 1669397270.0534298, \"EndTime\": 1669397270.053445, \"Dimensions\": {\"Algorithm\": \"Linear Learner\", \"Host\": \"algo-1\", \"Operation\": \"training\", \"epoch\": 2, \"model\": 19}, \"Metrics\": {\"train_absolute_loss_objective\": {\"sum\": 0.6670456454157829, \"count\": 1, \"min\": 0.6670456454157829, \"max\": 0.6670456454157829}}}\u001b[0m\n",
      "\u001b[34m[11/25/2022 17:27:50 INFO 139838445905728] #quality_metric: host=algo-1, epoch=2, train absolute_loss_objective <loss>=0.6537851378321647\u001b[0m\n",
      "\u001b[34m[11/25/2022 17:27:50 INFO 139838445905728] #early_stopping_criteria_metric: host=algo-1, epoch=2, criteria=absolute_loss_objective, value=0.2658702418208122\u001b[0m\n",
      "\u001b[34m[11/25/2022 17:27:50 INFO 139838445905728] Epoch 2: Loss improved. Updating best model\u001b[0m\n",
      "\u001b[34m[11/25/2022 17:27:50 INFO 139838445905728] Saving model for epoch: 2\u001b[0m\n",
      "\u001b[34m[11/25/2022 17:27:50 INFO 139838445905728] Saved checkpoint to \"/tmp/tmpinhqwiej/mx-mod-0000.params\"\u001b[0m\n",
      "\u001b[34m[11/25/2022 17:27:50 INFO 139838445905728] #progress_metric: host=algo-1, completed 75.0 % of epochs\u001b[0m\n",
      "\u001b[34m#metrics {\"StartTime\": 1669397269.8205538, \"EndTime\": 1669397270.0619645, \"Dimensions\": {\"Algorithm\": \"Linear Learner\", \"Host\": \"algo-1\", \"Operation\": \"training\", \"epoch\": 2, \"Meta\": \"training_data_iter\"}, \"Metrics\": {\"Total Records Seen\": {\"sum\": 325.0, \"count\": 1, \"min\": 325, \"max\": 325}, \"Total Batches Seen\": {\"sum\": 65.0, \"count\": 1, \"min\": 65, \"max\": 65}, \"Max Records Seen Between Resets\": {\"sum\": 80.0, \"count\": 1, \"min\": 80, \"max\": 80}, \"Max Batches Seen Between Resets\": {\"sum\": 16.0, \"count\": 1, \"min\": 16, \"max\": 16}, \"Reset Count\": {\"sum\": 5.0, \"count\": 1, \"min\": 5, \"max\": 5}, \"Number of Records Since Last Reset\": {\"sum\": 80.0, \"count\": 1, \"min\": 80, \"max\": 80}, \"Number of Batches Since Last Reset\": {\"sum\": 16.0, \"count\": 1, \"min\": 16, \"max\": 16}}}\u001b[0m\n",
      "\u001b[34m[11/25/2022 17:27:50 INFO 139838445905728] #throughput_metric: host=algo-1, train throughput=331.1679357293368 records/second\u001b[0m\n",
      "\u001b[34m[2022-11-25 17:27:50.283] [tensorio] [info] epoch_stats={\"data_pipeline\": \"/opt/ml/input/data/train\", \"epoch\": 10, \"duration\": 220, \"num_examples\": 16, \"num_bytes\": 3840}\u001b[0m\n",
      "\u001b[34m#metrics {\"StartTime\": 1669397270.2830937, \"EndTime\": 1669397270.2831764, \"Dimensions\": {\"Algorithm\": \"Linear Learner\", \"Host\": \"algo-1\", \"Operation\": \"training\", \"epoch\": 3, \"model\": 0}, \"Metrics\": {\"train_absolute_loss_objective\": {\"sum\": 0.6020964756608009, \"count\": 1, \"min\": 0.6020964756608009, \"max\": 0.6020964756608009}}}\u001b[0m\n",
      "\u001b[34m#metrics {\"StartTime\": 1669397270.2832754, \"EndTime\": 1669397270.2833254, \"Dimensions\": {\"Algorithm\": \"Linear Learner\", \"Host\": \"algo-1\", \"Operation\": \"training\", \"epoch\": 3, \"model\": 1}, \"Metrics\": {\"train_absolute_loss_objective\": {\"sum\": 0.5829639494419098, \"count\": 1, \"min\": 0.5829639494419098, \"max\": 0.5829639494419098}}}\u001b[0m\n",
      "\u001b[34m#metrics {\"StartTime\": 1669397270.2833893, \"EndTime\": 1669397270.2834084, \"Dimensions\": {\"Algorithm\": \"Linear Learner\", \"Host\": \"algo-1\", \"Operation\": \"training\", \"epoch\": 3, \"model\": 2}, \"Metrics\": {\"train_absolute_loss_objective\": {\"sum\": 0.5910561561584473, \"count\": 1, \"min\": 0.5910561561584473, \"max\": 0.5910561561584473}}}\u001b[0m\n",
      "\u001b[34m#metrics {\"StartTime\": 1669397270.2834635, \"EndTime\": 1669397270.283483, \"Dimensions\": {\"Algorithm\": \"Linear Learner\", \"Host\": \"algo-1\", \"Operation\": \"training\", \"epoch\": 3, \"model\": 3}, \"Metrics\": {\"train_absolute_loss_objective\": {\"sum\": 0.5743908554315567, \"count\": 1, \"min\": 0.5743908554315567, \"max\": 0.5743908554315567}}}\u001b[0m\n",
      "\u001b[34m#metrics {\"StartTime\": 1669397270.2835398, \"EndTime\": 1669397270.2835586, \"Dimensions\": {\"Algorithm\": \"Linear Learner\", \"Host\": \"algo-1\", \"Operation\": \"training\", \"epoch\": 3, \"model\": 4}, \"Metrics\": {\"train_absolute_loss_objective\": {\"sum\": 0.31609009131789206, \"count\": 1, \"min\": 0.31609009131789206, \"max\": 0.31609009131789206}}}\u001b[0m\n",
      "\u001b[34m#metrics {\"StartTime\": 1669397270.2836158, \"EndTime\": 1669397270.2836337, \"Dimensions\": {\"Algorithm\": \"Linear Learner\", \"Host\": \"algo-1\", \"Operation\": \"training\", \"epoch\": 3, \"model\": 5}, \"Metrics\": {\"train_absolute_loss_objective\": {\"sum\": 0.2669446088373661, \"count\": 1, \"min\": 0.2669446088373661, \"max\": 0.2669446088373661}}}\u001b[0m\n",
      "\u001b[34m#metrics {\"StartTime\": 1669397270.2836888, \"EndTime\": 1669397270.2837071, \"Dimensions\": {\"Algorithm\": \"Linear Learner\", \"Host\": \"algo-1\", \"Operation\": \"training\", \"epoch\": 3, \"model\": 6}, \"Metrics\": {\"train_absolute_loss_objective\": {\"sum\": 0.3064140871167183, \"count\": 1, \"min\": 0.3064140871167183, \"max\": 0.3064140871167183}}}\u001b[0m\n",
      "\u001b[34m#metrics {\"StartTime\": 1669397270.2837644, \"EndTime\": 1669397270.2837825, \"Dimensions\": {\"Algorithm\": \"Linear Learner\", \"Host\": \"algo-1\", \"Operation\": \"training\", \"epoch\": 3, \"model\": 7}, \"Metrics\": {\"train_absolute_loss_objective\": {\"sum\": 0.3134576126933098, \"count\": 1, \"min\": 0.3134576126933098, \"max\": 0.3134576126933098}}}\u001b[0m\n",
      "\u001b[34m#metrics {\"StartTime\": 1669397270.283835, \"EndTime\": 1669397270.283853, \"Dimensions\": {\"Algorithm\": \"Linear Learner\", \"Host\": \"algo-1\", \"Operation\": \"training\", \"epoch\": 3, \"model\": 8}, \"Metrics\": {\"train_absolute_loss_objective\": {\"sum\": 0.585783702135086, \"count\": 1, \"min\": 0.585783702135086, \"max\": 0.585783702135086}}}\u001b[0m\n",
      "\u001b[34m#metrics {\"StartTime\": 1669397270.283908, \"EndTime\": 1669397270.2839262, \"Dimensions\": {\"Algorithm\": \"Linear Learner\", \"Host\": \"algo-1\", \"Operation\": \"training\", \"epoch\": 3, \"model\": 9}, \"Metrics\": {\"train_absolute_loss_objective\": {\"sum\": 0.5902187496423721, \"count\": 1, \"min\": 0.5902187496423721, \"max\": 0.5902187496423721}}}\u001b[0m\n",
      "\u001b[34m#metrics {\"StartTime\": 1669397270.2839813, \"EndTime\": 1669397270.283999, \"Dimensions\": {\"Algorithm\": \"Linear Learner\", \"Host\": \"algo-1\", \"Operation\": \"training\", \"epoch\": 3, \"model\": 10}, \"Metrics\": {\"train_absolute_loss_objective\": {\"sum\": 0.6065626546740532, \"count\": 1, \"min\": 0.6065626546740532, \"max\": 0.6065626546740532}}}\u001b[0m\n",
      "\u001b[34m#metrics {\"StartTime\": 1669397270.2840545, \"EndTime\": 1669397270.2840724, \"Dimensions\": {\"Algorithm\": \"Linear Learner\", \"Host\": \"algo-1\", \"Operation\": \"training\", \"epoch\": 3, \"model\": 11}, \"Metrics\": {\"train_absolute_loss_objective\": {\"sum\": 0.6146461740136147, \"count\": 1, \"min\": 0.6146461740136147, \"max\": 0.6146461740136147}}}\u001b[0m\n",
      "\u001b[34m#metrics {\"StartTime\": 1669397270.28413, \"EndTime\": 1669397270.2841475, \"Dimensions\": {\"Algorithm\": \"Linear Learner\", \"Host\": \"algo-1\", \"Operation\": \"training\", \"epoch\": 3, \"model\": 12}, \"Metrics\": {\"train_absolute_loss_objective\": {\"sum\": 0.29053611382842065, \"count\": 1, \"min\": 0.29053611382842065, \"max\": 0.29053611382842065}}}\u001b[0m\n",
      "\u001b[34m#metrics {\"StartTime\": 1669397270.2842052, \"EndTime\": 1669397270.2842233, \"Dimensions\": {\"Algorithm\": \"Linear Learner\", \"Host\": \"algo-1\", \"Operation\": \"training\", \"epoch\": 3, \"model\": 13}, \"Metrics\": {\"train_absolute_loss_objective\": {\"sum\": 0.3747196063399315, \"count\": 1, \"min\": 0.3747196063399315, \"max\": 0.3747196063399315}}}\u001b[0m\n",
      "\u001b[34m#metrics {\"StartTime\": 1669397270.2842767, \"EndTime\": 1669397270.2842934, \"Dimensions\": {\"Algorithm\": \"Linear Learner\", \"Host\": \"algo-1\", \"Operation\": \"training\", \"epoch\": 3, \"model\": 14}, \"Metrics\": {\"train_absolute_loss_objective\": {\"sum\": 0.2568014644086361, \"count\": 1, \"min\": 0.2568014644086361, \"max\": 0.2568014644086361}}}\u001b[0m\n",
      "\u001b[34m#metrics {\"StartTime\": 1669397270.2843451, \"EndTime\": 1669397270.2843635, \"Dimensions\": {\"Algorithm\": \"Linear Learner\", \"Host\": \"algo-1\", \"Operation\": \"training\", \"epoch\": 3, \"model\": 15}, \"Metrics\": {\"train_absolute_loss_objective\": {\"sum\": 0.2917336843907833, \"count\": 1, \"min\": 0.2917336843907833, \"max\": 0.2917336843907833}}}\u001b[0m\n",
      "\u001b[34m#metrics {\"StartTime\": 1669397270.2844222, \"EndTime\": 1669397270.2844408, \"Dimensions\": {\"Algorithm\": \"Linear Learner\", \"Host\": \"algo-1\", \"Operation\": \"training\", \"epoch\": 3, \"model\": 16}, \"Metrics\": {\"train_absolute_loss_objective\": {\"sum\": 0.6411421701312066, \"count\": 1, \"min\": 0.6411421701312066, \"max\": 0.6411421701312066}}}\u001b[0m\n",
      "\u001b[34m#metrics {\"StartTime\": 1669397270.2844982, \"EndTime\": 1669397270.2845182, \"Dimensions\": {\"Algorithm\": \"Linear Learner\", \"Host\": \"algo-1\", \"Operation\": \"training\", \"epoch\": 3, \"model\": 17}, \"Metrics\": {\"train_absolute_loss_objective\": {\"sum\": 0.5969071730971336, \"count\": 1, \"min\": 0.5969071730971336, \"max\": 0.5969071730971336}}}\u001b[0m\n",
      "\u001b[34m#metrics {\"StartTime\": 1669397270.2845852, \"EndTime\": 1669397270.2846053, \"Dimensions\": {\"Algorithm\": \"Linear Learner\", \"Host\": \"algo-1\", \"Operation\": \"training\", \"epoch\": 3, \"model\": 18}, \"Metrics\": {\"train_absolute_loss_objective\": {\"sum\": 0.620032662153244, \"count\": 1, \"min\": 0.620032662153244, \"max\": 0.620032662153244}}}\u001b[0m\n",
      "\u001b[34m#metrics {\"StartTime\": 1669397270.2846632, \"EndTime\": 1669397270.2846808, \"Dimensions\": {\"Algorithm\": \"Linear Learner\", \"Host\": \"algo-1\", \"Operation\": \"training\", \"epoch\": 3, \"model\": 19}, \"Metrics\": {\"train_absolute_loss_objective\": {\"sum\": 0.6181425228714943, \"count\": 1, \"min\": 0.6181425228714943, \"max\": 0.6181425228714943}}}\u001b[0m\n",
      "\u001b[34m[11/25/2022 17:27:50 INFO 139838445905728] #quality_metric: host=algo-1, epoch=3, train absolute_loss_objective <loss>=0.6020964756608009\u001b[0m\n",
      "\u001b[34m[11/25/2022 17:27:50 INFO 139838445905728] #early_stopping_criteria_metric: host=algo-1, epoch=3, criteria=absolute_loss_objective, value=0.2568014644086361\u001b[0m\n",
      "\u001b[34m[11/25/2022 17:27:50 INFO 139838445905728] Epoch 3: Loss improved. Updating best model\u001b[0m\n",
      "\u001b[34m[11/25/2022 17:27:50 INFO 139838445905728] Saving model for epoch: 3\u001b[0m\n",
      "\u001b[34m[11/25/2022 17:27:50 INFO 139838445905728] Saved checkpoint to \"/tmp/tmpw30_ogtw/mx-mod-0000.params\"\u001b[0m\n",
      "\u001b[34m[11/25/2022 17:27:50 INFO 139838445905728] #progress_metric: host=algo-1, completed 100.0 % of epochs\u001b[0m\n",
      "\u001b[34m#metrics {\"StartTime\": 1669397270.0623024, \"EndTime\": 1669397270.2946892, \"Dimensions\": {\"Algorithm\": \"Linear Learner\", \"Host\": \"algo-1\", \"Operation\": \"training\", \"epoch\": 3, \"Meta\": \"training_data_iter\"}, \"Metrics\": {\"Total Records Seen\": {\"sum\": 405.0, \"count\": 1, \"min\": 405, \"max\": 405}, \"Total Batches Seen\": {\"sum\": 81.0, \"count\": 1, \"min\": 81, \"max\": 81}, \"Max Records Seen Between Resets\": {\"sum\": 80.0, \"count\": 1, \"min\": 80, \"max\": 80}, \"Max Batches Seen Between Resets\": {\"sum\": 16.0, \"count\": 1, \"min\": 16, \"max\": 16}, \"Reset Count\": {\"sum\": 6.0, \"count\": 1, \"min\": 6, \"max\": 6}, \"Number of Records Since Last Reset\": {\"sum\": 80.0, \"count\": 1, \"min\": 80, \"max\": 80}, \"Number of Batches Since Last Reset\": {\"sum\": 16.0, \"count\": 1, \"min\": 16, \"max\": 16}}}\u001b[0m\n",
      "\u001b[34m[11/25/2022 17:27:50 INFO 139838445905728] #throughput_metric: host=algo-1, train throughput=344.0093582791757 records/second\u001b[0m\n",
      "\u001b[34m[11/25/2022 17:27:50 WARNING 139838445905728] wait_for_all_workers will not sync workers since the kv store is not running distributed\u001b[0m\n",
      "\u001b[34m[11/25/2022 17:27:50 WARNING 139838445905728] wait_for_all_workers will not sync workers since the kv store is not running distributed\u001b[0m\n",
      "\u001b[34m[2022-11-25 17:27:50.296] [tensorio] [info] epoch_stats={\"data_pipeline\": \"/opt/ml/input/data/train\", \"epoch\": 12, \"duration\": 0, \"num_examples\": 1, \"num_bytes\": 240}\u001b[0m\n",
      "\u001b[34m[2022-11-25 17:27:50.329] [tensorio] [info] epoch_stats={\"data_pipeline\": \"/opt/ml/input/data/train\", \"epoch\": 14, \"duration\": 31, \"num_examples\": 16, \"num_bytes\": 3840}\u001b[0m\n",
      "\u001b[34m[11/25/2022 17:27:50 INFO 139838445905728] #train_score (algo-1) : ('absolute_loss_objective', 1.2786500334739686)\u001b[0m\n",
      "\u001b[34m[11/25/2022 17:27:50 INFO 139838445905728] #train_score (algo-1) : ('mse', 2.3183148354291916)\u001b[0m\n",
      "\u001b[34m[11/25/2022 17:27:50 INFO 139838445905728] #train_score (algo-1) : ('absolute_loss', 1.2786500334739686)\u001b[0m\n",
      "\u001b[34m[11/25/2022 17:27:50 INFO 139838445905728] #train_score (algo-1) : ('rmse', 1.5226013383119008)\u001b[0m\n",
      "\u001b[34m[11/25/2022 17:27:50 INFO 139838445905728] #train_score (algo-1) : ('r2', 0.8956896444266979)\u001b[0m\n",
      "\u001b[34m[11/25/2022 17:27:50 INFO 139838445905728] #train_score (algo-1) : ('mae', 1.2786500334739686)\u001b[0m\n",
      "\u001b[34m[11/25/2022 17:27:50 INFO 139838445905728] #quality_metric: host=algo-1, train absolute_loss_objective <loss>=1.2786500334739686\u001b[0m\n",
      "\u001b[34m[11/25/2022 17:27:50 INFO 139838445905728] #quality_metric: host=algo-1, train mse <loss>=2.3183148354291916\u001b[0m\n",
      "\u001b[34m[11/25/2022 17:27:50 INFO 139838445905728] #quality_metric: host=algo-1, train absolute_loss <loss>=1.2786500334739686\u001b[0m\n",
      "\u001b[34m[11/25/2022 17:27:50 INFO 139838445905728] #quality_metric: host=algo-1, train rmse <loss>=1.5226013383119008\u001b[0m\n",
      "\u001b[34m[11/25/2022 17:27:50 INFO 139838445905728] #quality_metric: host=algo-1, train r2 <loss>=0.8956896444266979\u001b[0m\n",
      "\u001b[34m[11/25/2022 17:27:50 INFO 139838445905728] #quality_metric: host=algo-1, train mae <loss>=1.2786500334739686\u001b[0m\n",
      "\u001b[34m[11/25/2022 17:27:50 INFO 139838445905728] Best model found for hyperparameters: {\"optimizer\": \"adam\", \"learning_rate\": 0.1, \"wd\": 0.01, \"l1\": 0.0, \"lr_scheduler_step\": 10, \"lr_scheduler_factor\": 0.99, \"lr_scheduler_minimum_lr\": 0.0001}\u001b[0m\n",
      "\u001b[34m[11/25/2022 17:27:50 INFO 139838445905728] Saved checkpoint to \"/tmp/tmp42sv7133/mx-mod-0000.params\"\u001b[0m\n",
      "\u001b[34m[11/25/2022 17:27:50 INFO 139838445905728] Test data is not provided.\u001b[0m\n",
      "\u001b[34m#metrics {\"StartTime\": 1669397269.069286, \"EndTime\": 1669397270.3390257, \"Dimensions\": {\"Algorithm\": \"Linear Learner\", \"Host\": \"algo-1\", \"Operation\": \"training\"}, \"Metrics\": {\"initialize.time\": {\"sum\": 246.26636505126953, \"count\": 1, \"min\": 246.26636505126953, \"max\": 246.26636505126953}, \"epochs\": {\"sum\": 4.0, \"count\": 1, \"min\": 4, \"max\": 4}, \"check_early_stopping.time\": {\"sum\": 4.832983016967773, \"count\": 4, \"min\": 1.1255741119384766, \"max\": 1.3422966003417969}, \"update.time\": {\"sum\": 960.9925746917725, \"count\": 4, \"min\": 221.1763858795166, \"max\": 273.1137275695801}, \"finalize.time\": {\"sum\": 39.03079032897949, \"count\": 1, \"min\": 39.03079032897949, \"max\": 39.03079032897949}, \"setuptime\": {\"sum\": 3.3538341522216797, \"count\": 1, \"min\": 3.3538341522216797, \"max\": 3.3538341522216797}, \"totaltime\": {\"sum\": 1442.3141479492188, \"count\": 1, \"min\": 1442.3141479492188, \"max\": 1442.3141479492188}}}\u001b[0m\n",
      "\n",
      "2022-11-25 17:28:15 Completed - Training job completed\n",
      "ProfilerReport-1669397010: NoIssuesFound\n",
      "Training seconds: 167\n",
      "Billable seconds: 167\n"
     ]
    }
   ],
   "source": [
    "#instantiating module\n",
    "\n",
    "#from aws:\n",
    "# classsagemaker.estimator.EstimatorBase(role, instance_count=None, instance_type=None, keep_alive_period_in_seconds=None, \n",
    "#volume_size=30, volume_kms_key=None, max_run=86400, input_mode='File', output_path=None, output_kms_key=None, \n",
    "#base_job_name=None, sagemaker_session=None, tags=None, subnets=None, security_group_ids=None, model_uri=None, \n",
    "#model_channel_name='model', metric_definitions=None, encrypt_inter_container_traffic=False, use_spot_instances=False, \n",
    "#max_wait=None, checkpoint_s3_uri=None, checkpoint_local_path=None, rules=None, debugger_hook_config=None, \n",
    "#tensorboard_output_config=None, enable_sagemaker_metrics=None, enable_network_isolation=False, profiler_config=None, \n",
    "#disable_profiler=False, environment=None, max_retry_attempts=None, source_dir=None, git_config=None, \n",
    "#hyperparameters=None, container_log_level=20, code_location=None, entry_point=None, dependencies=None, \n",
    "#instance_groups=None, **kwargs)\n",
    "\n",
    "linear_model = sagemaker.estimator.Estimator(container, role, \n",
    "                                             instance_count = 1, \n",
    "                                             instance_type = 'ml.m4.xlarge',\n",
    "                                             output_path = output_location,\n",
    "                                             sagemaker_session = sagemaker_session)\n",
    "#setting hyperparameters:\n",
    "\n",
    "linear_model.set_hyperparameters(feature_dim = 1,\n",
    "                                 predictor_type = 'regressor',\n",
    "                                 mini_batch_size = 5,\n",
    "                                 epochs = 4,\n",
    "                                 num_models = 20,\n",
    "                                 loss = 'absolute_loss')\n",
    "\n",
    "#fti\n",
    "\n",
    "linear_model.fit({'train': s3_data_train})\n"
   ]
  },
  {
   "cell_type": "markdown",
   "id": "878bedf7-c24e-48e5-8ef8-e8ea2ce06214",
   "metadata": {},
   "source": [
    "Deploying Model\n"
   ]
  },
  {
   "cell_type": "code",
   "execution_count": 55,
   "id": "f74f3a79-a205-4665-b4f2-fcf759126551",
   "metadata": {
    "tags": []
   },
   "outputs": [],
   "source": [
    "from sagemaker.deserializers import JSONDeserializer\n",
    "from sagemaker.serializers import CSVSerializer"
   ]
  },
  {
   "cell_type": "code",
   "execution_count": 56,
   "id": "6abebc8e-93d4-42a0-881a-100e1259dd61",
   "metadata": {
    "tags": []
   },
   "outputs": [
    {
     "name": "stdout",
     "output_type": "stream",
     "text": [
      "--------!"
     ]
    }
   ],
   "source": [
    "linear_regressor = linear_model.deploy(initial_instance_count = 1,\n",
    "                                       instance_type = 'ml.m4.xlarge',\n",
    "                                       serializer = CSVSerializer(),\n",
    "                                       deserializer = JSONDeserializer())"
   ]
  },
  {
   "cell_type": "code",
   "execution_count": 58,
   "id": "06fd72d1-e215-4f8a-8105-e57dbc69c199",
   "metadata": {
    "tags": []
   },
   "outputs": [],
   "source": [
    "result = linear_regressor.predict(X_test)"
   ]
  },
  {
   "cell_type": "code",
   "execution_count": 59,
   "id": "c6138ef3-2a32-45e5-93a6-5b2d9f51736f",
   "metadata": {
    "tags": []
   },
   "outputs": [],
   "source": [
    "pred_df = pd.json_normalize(result, record_path='predictions' )"
   ]
  },
  {
   "cell_type": "code",
   "execution_count": 60,
   "id": "b5fadadb-ac98-4891-ab46-89e6e856b5bc",
   "metadata": {
    "tags": []
   },
   "outputs": [
    {
     "data": {
      "text/html": [
       "<div>\n",
       "<style scoped>\n",
       "    .dataframe tbody tr th:only-of-type {\n",
       "        vertical-align: middle;\n",
       "    }\n",
       "\n",
       "    .dataframe tbody tr th {\n",
       "        vertical-align: top;\n",
       "    }\n",
       "\n",
       "    .dataframe thead th {\n",
       "        text-align: right;\n",
       "    }\n",
       "</style>\n",
       "<table border=\"1\" class=\"dataframe\">\n",
       "  <thead>\n",
       "    <tr style=\"text-align: right;\">\n",
       "      <th></th>\n",
       "      <th>score</th>\n",
       "    </tr>\n",
       "  </thead>\n",
       "  <tbody>\n",
       "    <tr>\n",
       "      <th>0</th>\n",
       "      <td>22.294613</td>\n",
       "    </tr>\n",
       "    <tr>\n",
       "      <th>1</th>\n",
       "      <td>23.806149</td>\n",
       "    </tr>\n",
       "    <tr>\n",
       "      <th>2</th>\n",
       "      <td>25.494226</td>\n",
       "    </tr>\n",
       "    <tr>\n",
       "      <th>3</th>\n",
       "      <td>31.493713</td>\n",
       "    </tr>\n",
       "    <tr>\n",
       "      <th>4</th>\n",
       "      <td>21.038033</td>\n",
       "    </tr>\n",
       "  </tbody>\n",
       "</table>\n",
       "</div>"
      ],
      "text/plain": [
       "       score\n",
       "0  22.294613\n",
       "1  23.806149\n",
       "2  25.494226\n",
       "3  31.493713\n",
       "4  21.038033"
      ]
     },
     "execution_count": 60,
     "metadata": {},
     "output_type": "execute_result"
    }
   ],
   "source": [
    "pred_df.head()"
   ]
  },
  {
   "cell_type": "code",
   "execution_count": null,
   "id": "fd86ac5d-9d54-4bfb-b8f7-1aff7e4c0bd4",
   "metadata": {},
   "outputs": [],
   "source": [
    "# VISUALIZE TEST SET RESULTS\n",
    "plt.figure(figsize = (10, 6))\n",
    "plt.scatter(X_test, y_test, color = 'blue')\n",
    "plt.plot(X_test, pred_df['score'], color = 'red')\n",
    "plt.xlabel('Horse Power')\n",
    "plt.ylabel('G')\n",
    "\n",
    "plt.grid()\n",
    "plt.show();"
   ]
  }
 ],
 "metadata": {
  "instance_type": "ml.t3.medium",
  "kernelspec": {
   "display_name": "Python 3 (Data Science)",
   "language": "python",
   "name": "python3__SAGEMAKER_INTERNAL__arn:aws:sagemaker:us-east-1:081325390199:image/datascience-1.0"
  },
  "language_info": {
   "codemirror_mode": {
    "name": "ipython",
    "version": 3
   },
   "file_extension": ".py",
   "mimetype": "text/x-python",
   "name": "python",
   "nbconvert_exporter": "python",
   "pygments_lexer": "ipython3",
   "version": "3.7.10"
  }
 },
 "nbformat": 4,
 "nbformat_minor": 5
}
